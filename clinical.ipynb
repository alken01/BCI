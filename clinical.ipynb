{
 "cells": [
  {
   "cell_type": "code",
   "execution_count": 72,
   "metadata": {},
   "outputs": [
    {
     "name": "stdout",
     "output_type": "stream",
     "text": [
      "Leaving device<->head transform as None (no landmarks found)\n",
      "Reading 0 ... 139799  =      0.000 ...    69.900 secs...\n",
      "Event file not found. No Annotations set.\n",
      "Leaving device<->head transform as None (no landmarks found)\n",
      "Reading 0 ... 193399  =      0.000 ...    96.700 secs...\n",
      "Event file not found. No Annotations set.\n",
      "Leaving device<->head transform as None (no landmarks found)\n",
      "Reading 0 ... 128799  =      0.000 ...    64.400 secs...\n",
      "Event file not found. No Annotations set.\n",
      "Leaving device<->head transform as None (no landmarks found)\n",
      "Reading 0 ... 125199  =      0.000 ...    62.599 secs...\n",
      "Event file not found. No Annotations set.\n",
      "Leaving device<->head transform as None (no landmarks found)\n",
      "Reading 0 ... 133799  =      0.000 ...    66.900 secs...\n",
      "Event file not found. No Annotations set.\n",
      "Leaving device<->head transform as None (no landmarks found)\n",
      "Reading 0 ... 166999  =      0.000 ...    83.499 secs...\n",
      "Event file not found. No Annotations set.\n",
      "Leaving device<->head transform as None (no landmarks found)\n",
      "Reading 0 ... 94799  =      0.000 ...    47.400 secs...\n",
      "Event file not found. No Annotations set.\n",
      "Leaving device<->head transform as None (no landmarks found)\n",
      "Reading 0 ... 76599  =      0.000 ...    38.300 secs...\n",
      "Event file not found. No Annotations set.\n",
      "Leaving device<->head transform as None (no landmarks found)\n",
      "Reading 0 ... 80399  =      0.000 ...    40.200 secs...\n",
      "Event file not found. No Annotations set.\n",
      "Leaving device<->head transform as None (no landmarks found)\n",
      "Reading 0 ... 81199  =      0.000 ...    40.599 secs...\n",
      "Event file not found. No Annotations set.\n",
      "Leaving device<->head transform as None (no landmarks found)\n",
      "Reading 0 ... 86599  =      0.000 ...    43.300 secs...\n",
      "Event file not found. No Annotations set.\n",
      "Leaving device<->head transform as None (no landmarks found)\n",
      "Reading 0 ... 71599  =      0.000 ...    35.800 secs...\n",
      "Event file not found. No Annotations set.\n",
      "Leaving device<->head transform as None (no landmarks found)\n",
      "Reading 0 ... 73399  =      0.000 ...    36.700 secs...\n",
      "Event file not found. No Annotations set.\n",
      "Leaving device<->head transform as None (no landmarks found)\n",
      "Reading 0 ... 72399  =      0.000 ...    36.200 secs...\n",
      "Event file not found. No Annotations set.\n"
     ]
    }
   ],
   "source": [
    "import mne\n",
    "import os\n",
    "\n",
    "#Find all the files in the data/Alken-29March/ folder with .dat extension  \n",
    "files = [f for f in os.listdir('data/Alken-29March/') if f.endswith('.dat')]\n",
    "#Sort the files in ascending order\n",
    "files.sort()\n",
    "#Removes the test file\n",
    "files.pop()\n",
    "#Read the files into a list of raw objects\n",
    "raws = [mne.io.read_raw_curry('data/Alken-29March/' + f, preload=True) for f in files]\n",
    "\n"
   ]
  },
  {
   "cell_type": "code",
   "execution_count": null,
   "metadata": {},
   "outputs": [],
   "source": []
  }
 ],
 "metadata": {
  "language_info": {
   "name": "python"
  },
  "orig_nbformat": 4
 },
 "nbformat": 4,
 "nbformat_minor": 2
}

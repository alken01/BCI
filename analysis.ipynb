{
 "cells": [
  {
   "cell_type": "code",
   "execution_count": null,
   "metadata": {},
   "outputs": [],
   "source": []
  }
 ],
 "metadata": {
  "kernelspec": {
   "display_name": "thesis",
   "language": "python",
   "name": "python3"
  },
  "language_info": {
   "name": "python",
   "version": "3.10.9"
  },
  "orig_nbformat": 4,
  "vscode": {
   "interpreter": {
    "hash": "15d9b486ac39ec6ca226982485cbeefccd467bcf6c20f38ee8e1e514ea3616cf"
   }
  }
 },
 "nbformat": 4,
 "nbformat_minor": 2
}

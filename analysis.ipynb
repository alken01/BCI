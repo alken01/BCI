{
 "cells": [
  {
   "cell_type": "code",
   "execution_count": 4,
   "metadata": {},
   "outputs": [],
   "source": [
    "%%capture \n",
    "%load_ext autoreload\n",
    "%autoreload 2\n",
    "%reset -f"
   ]
  },
  {
   "cell_type": "code",
   "execution_count": 5,
   "metadata": {},
   "outputs": [],
   "source": [
    "from functions import *"
   ]
  },
  {
   "attachments": {},
   "cell_type": "markdown",
   "metadata": {},
   "source": [
    "## **Import the EEG Data and set the Global Variables**"
   ]
  },
  {
   "cell_type": "code",
   "execution_count": 6,
   "metadata": {},
   "outputs": [],
   "source": [
    "# chan_name = ['PO3','POz','PO4', 'O1', 'Oz', 'O2', 'PO7', 'PO8']\n",
    "\n",
    "chan_name = ['PO3','POz','PO4', 'O1', 'Oz', 'O2']\n",
    "\n",
    "fs, lf, hf = 250, 5, 100 #Hz\n",
    "\n",
    "target_freq = [6.6, 7.5, 13.2, 15, 19.8, 22.5, 26.4, 30, 33, 37.5]\n",
    "# target_freq = [7.5, 15, 22.5, 30, 37.5]\n",
    "\n",
    "eeg_data = process_folder('data/Epochs/', chan_name, target_freq=target_freq, hf=hf, lf=lf, epoch_length=6, filter = False)\n",
    "\n",
    "# keep only exp1 and 2\n",
    "new_eeg_data = []\n",
    "for eeg in eeg_data:\n",
    "    code = int(eeg.title.split('_')[-1])\n",
    "    if code >= 110 and code < 120:\n",
    "        new_eeg_data.append(eeg)\n",
    "eeg_data = new_eeg_data\n",
    "\n",
    "\n",
    "# sort by title\n",
    "eeg_data.sort(key=lambda x: (int(x.title[1]),int(x.title[-5]), int(x.title[-3:])))"
   ]
  },
  {
   "cell_type": "code",
   "execution_count": 7,
   "metadata": {},
   "outputs": [],
   "source": [
    "# remove channels \n",
    "# chan_to_remove = ['Oz']\n",
    "\n",
    "# for eeg in eeg_data:\n",
    "#     eeg.remove_channels(chan_to_remove)\n",
    "\n",
    "# for chan in chan_to_remove:\n",
    "#     if chan in chan_name:\n",
    "#         chan_name.remove(chan)"
   ]
  },
  {
   "cell_type": "code",
   "execution_count": 8,
   "metadata": {},
   "outputs": [],
   "source": [
    "# for eeg in eeg_data:\n",
    "#     eeg.filtered_signal = eeg.filtered_signal - np.mean(eeg.filtered_signal, axis=0)\n",
    "    \n",
    "#     mean_val = np.mean(eeg.filtered_signal, axis=0)\n",
    "#     std_val = np.std(eeg.filtered_signal, axis=0)\n",
    "#     scaled_signal = (eeg.filtered_signal - mean_val) / std_val"
   ]
  },
  {
   "cell_type": "code",
   "execution_count": 9,
   "metadata": {},
   "outputs": [],
   "source": [
    "# for eeg in eeg_data:\n",
    "#     amplitude_plot(eeg.filtered_signal, chan_name, title=(eeg.title), lim=25)"
   ]
  },
  {
   "cell_type": "code",
   "execution_count": 10,
   "metadata": {},
   "outputs": [],
   "source": [
    "# psd_plot_interactive(eeg_data, chan_name, nperseg_max=50, nfft_max=50,fig_x=15,fig_y=3, xmin=lf, xlim=35, ylim=5)"
   ]
  },
  {
   "cell_type": "code",
   "execution_count": 11,
   "metadata": {},
   "outputs": [],
   "source": [
    "# def rls_filter(y, f, lambda_, fs, delta):\n",
    "#     # Number of channels\n",
    "#     n_channels = y.shape[0]\n",
    "\n",
    "#     # Number of filter coefficients\n",
    "#     P = 2\n",
    "\n",
    "#     # Initialize the filter coefficients\n",
    "#     w_all = np.zeros([n_channels, P, y.shape[1]])\n",
    "\n",
    "#     # Initialize the desired signal\n",
    "#     x1 = np.sin(2*np.pi*f*np.arange(0,y.shape[1])/fs)\n",
    "#     x2 = np.cos(2*np.pi*f*np.arange(0,y.shape[1])/fs)\n",
    "#     x = np.vstack((x1,x2)) \n",
    "\n",
    "#     # Initialize the inverse correlation matrix\n",
    "#     R = delta*np.eye(P)\n",
    "\n",
    "#     # Initialize the output signal\n",
    "#     y_hat = np.zeros_like(y)\n",
    "\n",
    "#     # Initialize the error signal\n",
    "#     e = np.zeros_like(y)\n",
    "\n",
    "#     # Loop over channels\n",
    "#     for ch in range(n_channels):\n",
    "#         # Loop through the samples one by one\n",
    "#         for i in range(0,y.shape[1]):\n",
    "#             # Compute the adaptation gain\n",
    "#             k_num = (1/lambda_)*(R@x[:,i])  \n",
    "#             k_den = 1 + (1/lambda_)*(x[:,i].T@R@x[:,i])\n",
    "#             k = k_num/k_den\n",
    "#             k = np.reshape(k, (P,1))\n",
    "\n",
    "#             # Error signal & update signal estimate\n",
    "#             y_hat[ch, i] = np.dot(w_all[ch, :, i - 1], x[:, i])\n",
    "#             e[ch, i] = y[ch, i] - y_hat[ch, i]  # Reshape y_hat[ch, i] to match the shape of y[ch, i]\n",
    "\n",
    "#             # Update the filter coefficients\n",
    "#             w_all[ch, :, i] = w_all[ch, :, i-1] + (k * e[ch, i]).flatten()\n",
    "\n",
    "#             # Update the inverse correlation matrix\n",
    "#             x_temp = np.reshape(x[:,i], (2,1))\n",
    "#             R = (1/lambda_) * R - (1/lambda_)* k @ x_temp.T @ R\n",
    "\n",
    "#     return y_hat"
   ]
  },
  {
   "cell_type": "code",
   "execution_count": 12,
   "metadata": {},
   "outputs": [],
   "source": [
    "# for eeg in eeg_data:\n",
    "#     eeg.filtered_signal = rls_filter(eeg.filtered_signal, 7.5, 0.999, 250, 0.001)\n",
    "\n",
    "# for eeg in eeg_data:\n",
    "#     amplitude_plot(eeg.filtered_signal, chan_name, title=(eeg.title), lim=5)"
   ]
  },
  {
   "cell_type": "code",
   "execution_count": 13,
   "metadata": {},
   "outputs": [],
   "source": [
    "# psd_plot_interactive(eeg_data, chan_name, nperseg_max=50, nfft_max=50,fig_x=15,fig_y=3, xmin=lf, xlim=hf, ylim=25)"
   ]
  },
  {
   "cell_type": "code",
   "execution_count": 14,
   "metadata": {},
   "outputs": [],
   "source": [
    "# for eeg in eeg_data: \n",
    "#     plot_spectrogram_and_bands(eeg, title = eeg.title, band_freqs=eeg.stimulus_frequency, nfft=30, nperseg=10)   "
   ]
  },
  {
   "cell_type": "code",
   "execution_count": 15,
   "metadata": {},
   "outputs": [],
   "source": [
    "# for eeg in eeg_data: \n",
    "#     plot_spectrogram_and_bands(eeg, title = eeg.title, band_freqs=eeg.stimulus_frequency, nfft=5, nperseg=5)"
   ]
  },
  {
   "attachments": {},
   "cell_type": "markdown",
   "metadata": {},
   "source": [
    "## Statistical Analysis:\n",
    "\n",
    "Statistical tests are commonly used when you have well-defined hypotheses and want to make inferences about population parameters based on sample data. They are suitable for testing specific research questions, examining relationships between variables, and providing statistical evidence for or against hypotheses. Statistical tests are often simpler to interpret and require fewer computational resources compared to machine learning algorithms.\n",
    "\n",
    "\n",
    "### Research Question 1: Can we differentiate SSVEP responses based on which eye was stimulated?\n",
    "Compare the SSVEP responses at 7.5Hz between the left eye stimulation \n",
    "(Lf1, R∅) and the right eye stimulation (L∅, Rf1). If there is a significant difference, it suggests that the SSVEP responses depend on which eye was stimulated. \n",
    "\n",
    "A suitable statistical test for this comparison could be a paired t-test or a Wilcoxon signed-rank test if the data does not meet the assumptions of normality."
   ]
  },
  {
   "attachments": {},
   "cell_type": "markdown",
   "metadata": {},
   "source": [
    "$\\mathrm{SNR}_{\\text {Broadband }}=\\frac{\\sum_{\\delta=1}^{harmonics}\\left[N\\left(\\delta f_1\\right)+N\\left(\\delta f_2\\right)\\right]}{\\sum_{f=5 H z}^{hf H z} N(f)-\\sum_{\\delta=1}^{harmonics}\\left[N\\left(\\delta f_1\\right)+N\\left(\\delta f_2\\right)\\right]}$"
   ]
  },
  {
   "cell_type": "code",
   "execution_count": 16,
   "metadata": {},
   "outputs": [],
   "source": [
    "from scipy import stats\n",
    "\n",
    "def N(eeg_data, target_frequency, fs=250, nperseg=256, noverlap=128):\n",
    "    # N (f) represents the power value of the signal at frequency\n",
    "    f, psd = signal.welch(eeg_data, fs=fs, nperseg=nperseg, noverlap=noverlap)\n",
    "    idx_target = np.argmin(np.abs(f - target_frequency))\n",
    "    return psd[idx_target]\n",
    "\n",
    "def snr_broadband(eeg_data, f1, f2, hf, harmonics): \n",
    "    numerator = sum([N(eeg_data, delta * f1) + N(eeg_data, delta * f2) for delta in range(1, harmonics + 1)])\n",
    "    denominator = sum([N(eeg_data, f) for f in range(5, hf + 1)]) - numerator\n",
    "    return numerator / denominator\n",
    "\n",
    "def calculate_snr(eeg_data, target_frequency, fs=250, nperseg=256, noverlap=128, object=True):\n",
    "    if object: eeg_data = eeg_data.filtered_signal\n",
    "    # Calculate SNR for all channels\n",
    "    snr = []\n",
    "    # Calculate SNR per channel\n",
    "    for eeg in eeg_data:\n",
    "        snr.append(snr_broadband(eeg, target_frequency[0], target_frequency[1], hf=100, harmonics=5))\n",
    "    # return snr for all channels \n",
    "    return np.array(snr)\n",
    "\n",
    "def get_hemisphere_data(data, hemisphere, channels):\n",
    "    left_hemisphere, midline_hemisphere, right_hemisphere = chan_hemisphere(channels)\n",
    "    idx = []\n",
    "    if hemisphere == 'left':\n",
    "        idx = [channels.index(ch) for ch in left_hemisphere]\n",
    "    elif hemisphere == 'right':\n",
    "        idx = [channels.index(ch) for ch in right_hemisphere]\n",
    "    elif hemisphere == 'midline':\n",
    "        idx = [channels.index(ch) for ch in midline_hemisphere]\n",
    "    else: return None\n",
    "\n",
    "    return data[idx]\n",
    "\n",
    "import copy\n",
    "\n",
    "def stimulated_and_not(eeg, stimulated_eye):\n",
    "    eeg_not_stimulated = copy.deepcopy(eeg)\n",
    "    eeg_stimulated = copy.deepcopy(eeg)\n",
    "\n",
    "    if stimulated_eye == 'left':\n",
    "        eeg_stimulated.filtered_signal = get_hemisphere_data(eeg.filtered_signal, 'right', eeg.chan_name)\n",
    "        eeg_not_stimulated.filtered_signal = get_hemisphere_data(eeg.filtered_signal, 'left', eeg.chan_name)\n",
    "\n",
    "    elif stimulated_eye == 'right':\n",
    "        eeg_stimulated.filtered_signal = get_hemisphere_data(eeg.filtered_signal, 'left', eeg.chan_name)\n",
    "        eeg_not_stimulated.filtered_signal = get_hemisphere_data(eeg.filtered_signal, 'right', eeg.chan_name)\n",
    "    \n",
    "    elif stimulated_eye == 'both':\n",
    "        eeg_stimulated.filtered_signal = get_hemisphere_data(eeg.filtered_signal, 'left', eeg.chan_name)\n",
    "        eeg_stimulated.add_signal(get_hemisphere_data(eeg.filtered_signal, 'right', eeg.chan_name))\n",
    "        eeg_not_stimulated = None\n",
    "\n",
    "    return eeg_stimulated, eeg_not_stimulated"
   ]
  },
  {
   "attachments": {},
   "cell_type": "markdown",
   "metadata": {},
   "source": [
    "It seems that your data suggests differences in the SNR between the left eye, both eyes, and the right eye stimulation. Here's a brief summary of the analyses:\n",
    "\n",
    "The paired t-test results show that there is a significant difference between the left and right eye stimulation for Participant 1 and Participant 3 (p < 0.05). However, for the remaining participants, there's no significant difference found between the left and right eye stimulation (p > 0.05).\n",
    "\n",
    "The one-way repeated measures ANOVA showed a significant difference between the three groups (Left eye, Both eyes, Right eye) only for Participant 3 (p < 0.05). For the remaining participants, no significant difference was found (p > 0.05).\n",
    "\n",
    "These results suggest that for the majority of participants, there is no significant difference in the SSVEP responses based on the eye that was stimulated or whether both eyes were stimulated. However, for Participant 3, the results suggest a significant difference, indicating that the SSVEP responses may depend on which eye was stimulated or whether both eyes were stimulated.\n",
    "\n",
    "As a next step, you might want to conduct a post-hoc analysis for the one-way repeated measures ANOVA of Participant 3 to determine exactly where the differences lie. You can use a post-hoc test with a Bonferroni correction to adjust for multiple comparisons.\n",
    "\n",
    "Furthermore, to get a clear picture across all participants, you could use a mixed model ANOVA where the fixed factor is the type of stimulation (Left eye, Both eyes, Right eye) and the random factor is the participant ID.\n",
    "\n",
    "Finally, you might want to perform a meta-analysis to combine the p-values from the different participants into a single p-value. This can give you a single measure of the overall effect. There are different methods to combine p-values, such as Fisher's method, Stouffer's method, or others. The choice of method may depend on your specific hypothesis and data distribution."
   ]
  },
  {
   "cell_type": "code",
   "execution_count": 17,
   "metadata": {},
   "outputs": [
    {
     "name": "stdout",
     "output_type": "stream",
     "text": [
      "['left', 'right'] False\n",
      "1 & 0.45, 0.22, 0.35, 0.30, 0.36, 0.23 & 0.42, 0.28, 0.31, 0.28, 0.36, 0.27 &  1.0 \\\\\n",
      "1 & 0.38, 0.23, 0.34, 0.27, 0.16, 0.22 & 0.44, 0.28, 0.42, 0.32, 0.21, 0.30 &  0.03 \\\\\n",
      "2 & 0.35, 0.28, 0.34, 0.33, 0.33, 0.34 & 0.35, 0.31, 0.35, 0.30, 0.36, 0.37 &  0.22 \\\\\n",
      "2 & 0.47, 0.29, 0.40, 0.31, 0.37, 0.38 & 0.40, 0.31, 0.36, 0.29, 0.35, 0.35 &  0.16 \\\\\n",
      "3 & 0.31, 0.26, 0.29, 0.36, 0.31, 0.30 & 0.28, 0.26, 0.27, 0.28, 0.29, 0.31 &  0.16 \\\\\n",
      "4 & 0.34, 0.40, 0.40, 0.28, 0.40, 0.29 & 0.36, 0.37, 0.37, 0.27, 0.35, 0.32 &  0.31 \\\\\n",
      "5 & 0.29, 0.30, 0.30, 0.41, 0.17, 0.36 & 0.26, 0.32, 0.29, 0.37, 0.16, 0.34 &  0.22 \\\\\n",
      "5 & 0.36, 0.38, 0.35, 0.45, 0.22, 0.42 & 0.31, 0.38, 0.33, 0.36, 0.23, 0.42 &  0.44 \\\\\n",
      "6 & 0.45, 0.47, 0.36, 0.35, 0.42, 0.34 & 0.46, 0.44, 0.37, 0.34, 0.38, 0.31 &  0.31 \\\\\n",
      "7 & 0.33, 0.38, 0.28, 0.30, 0.32, 0.35 & 0.33, 0.38, 0.27, 0.26, 0.28, 0.36 &  0.44 \\\\\n",
      "8 & 0.28, 0.23, 0.29, 0.29, 0.37, 0.21 & 0.30, 0.20, 0.30, 0.25, 0.33, 0.25 &  0.84 \\\\\n",
      "all & 0.34, 0.29, 0.33, 0.33, 0.24, 0.29 & 0.37, 0.31, 0.33, 0.30, 0.23, 0.34 & 0.69 \\\\\n"
     ]
    }
   ],
   "source": [
    "def statistical_analysis(eeg_data, target_freq, compare, stimulated = True):\n",
    "    # Create \n",
    "    all_compare_1 = EEG_Data(None,title = f'All_stimulated', chan_name = eeg_data[0].chan_name, stimulus_frequency= target_freq)\n",
    "    all_compare_2 = EEG_Data(None,title = f'All_not_stimulated', chan_name = eeg_data[0].chan_name, stimulus_frequency= target_freq)\n",
    "\n",
    "    for i in range(0,len(eeg_data)-2,3):\n",
    "        left_eye_75hz, both_eyes_75hz, right_eye_75hz = eeg_data[i:i+3]\n",
    "\n",
    "        # init empty EEG_Data objects\n",
    "        compare_1 = EEG_Data(None,title = f'P{left_eye_75hz.title[1]}_stimulated', chan_name = left_eye_75hz.chan_name, stimulus_frequency= target_freq)\n",
    "        compare_2 = EEG_Data(None,title = f'P{left_eye_75hz.title[1]}_not_stimulated', chan_name = left_eye_75hz.chan_name, stimulus_frequency= target_freq)\n",
    "        \n",
    "        if stimulated:\n",
    "            if 'left' in compare:\n",
    "                compare_1.add_signal(stimulated_and_not(left_eye_75hz, 'left')[0])\n",
    "                compare_2.add_signal(stimulated_and_not(left_eye_75hz, 'left')[1])\n",
    "            if 'right' in compare:\n",
    "                compare_1.add_signal(stimulated_and_not(right_eye_75hz, 'right')[0])\n",
    "                compare_2.add_signal(stimulated_and_not(right_eye_75hz, 'right')[1])\n",
    "            if 'both' in compare:\n",
    "                compare_1.add_signal(stimulated_and_not(both_eyes_75hz, 'both')[0])\n",
    "        else:\n",
    "            if 'left' in compare:\n",
    "                compare_1.add_signal(left_eye_75hz)\n",
    "            if 'right' in compare:\n",
    "                compare_2.add_signal(right_eye_75hz)\n",
    "            if 'both' in compare:\n",
    "                if compare_1.filtered_signal is None:\n",
    "                    compare_1.add_signal(both_eyes_75hz)\n",
    "                elif compare_2.filtered_signal is None:\n",
    "                    compare_2.add_signal(both_eyes_75hz)\n",
    "                else:\n",
    "                    print('Error: both eyes already added to both groups')\n",
    "                    return\n",
    "\n",
    "        # Calculate SNR for left and right hemispheres\n",
    "        compare_1_snr = calculate_snr(compare_1, target_freq, object=True)\n",
    "        compare_2_snr = calculate_snr(compare_2, target_freq, object=True)  \n",
    "        statistic, pvalue = stats.wilcoxon(compare_1_snr, compare_2_snr)\n",
    "\n",
    "        print(f\"{left_eye_75hz.title[1]} & \",end='')\n",
    "        print(*[f\"{round(x, 2):.2f}\" for x in compare_1_snr], sep=', ', end=' & ')\n",
    "        print(*[f\"{round(x, 2):.2f}\" for x in compare_2_snr], sep=', ', end=' & ')\n",
    "        print(f\" {round(pvalue, 2)} \\\\\\\\\")\n",
    "\n",
    "        # Add to all_stimulated and all_not_stimulated\n",
    "        all_compare_1.add_signal(compare_1, stack=True)\n",
    "        all_compare_2.add_signal(compare_2, stack=True)\n",
    "\n",
    "    # Calculate SNR for all_stimulated and all_not_stimulated\n",
    "    all_compare_1_snr = calculate_snr(all_compare_1, target_freq, object=True)\n",
    "    all_compare_2_snr = calculate_snr(all_compare_2, target_freq, object=True)\n",
    "    statistic, pvalue = stats.wilcoxon(all_compare_1_snr, all_compare_2_snr)\n",
    "    print(\"all & \",end=\"\") \n",
    "    print(*[f\"{round(x, 2):.2f}\" for x in all_compare_1_snr], sep=', ', end=' & ')\n",
    "    print(*[f\"{round(x, 2):.2f}\" for x in all_compare_2_snr], sep=', ', end=' & ')\n",
    "    print(f\"{round(pvalue, 2)} \\\\\\\\\")\n",
    "\n",
    "target_freq = [6.6, 7.5]\n",
    "compare = ['left', 'right']\n",
    "stimulated = False\n",
    "print(compare, stimulated) \n",
    "statistical_analysis(eeg_data, target_freq, compare, stimulated=stimulated )"
   ]
  }
 ],
 "metadata": {
  "kernelspec": {
   "display_name": "thesis",
   "language": "python",
   "name": "python3"
  },
  "language_info": {
   "codemirror_mode": {
    "name": "ipython",
    "version": 3
   },
   "file_extension": ".py",
   "mimetype": "text/x-python",
   "name": "python",
   "nbconvert_exporter": "python",
   "pygments_lexer": "ipython3",
   "version": "3.10.9"
  },
  "orig_nbformat": 4,
  "vscode": {
   "interpreter": {
    "hash": "15d9b486ac39ec6ca226982485cbeefccd467bcf6c20f38ee8e1e514ea3616cf"
   }
  }
 },
 "nbformat": 4,
 "nbformat_minor": 2
}

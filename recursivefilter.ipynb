{
 "cells": [
  {
   "cell_type": "code",
   "execution_count": 91,
   "metadata": {},
   "outputs": [],
   "source": [
    "import pandas as pd\n",
    "import numpy as np\n",
    "import matplotlib.pyplot as plt\n",
    "from scipy import signal\n",
    "from cmath import cos, sin, pi"
   ]
  },
  {
   "cell_type": "code",
   "execution_count": null,
   "metadata": {},
   "outputs": [],
   "source": [
    "# Load the raw EEG data\n",
    "eeg_data = pd.read_csv(\"data/Liuyin-5April/Morning/wet_17hz_0504_clean_ExG.csv\")\n",
    "\n",
    "# Set the sampling rate and the filter cutoff frequencies\n",
    "fs = 250\n",
    "low_cutoff = 6\n",
    "high_cutoff = 30\n",
    "\n",
    "#Create two dataframes from eeg_data the first is the first column which is the timestamp and the second is the remaiing columns which are the EEG data\n",
    "eeg_data_timestamp = eeg_data.iloc[:,0]\n",
    "eeg_data_eeg = eeg_data.iloc[:,1:]\n",
    "\n",
    "# Create an array of the EEG data\n",
    "eeg_array = eeg_data_eeg.to_numpy() # 40672 rows x 8 columns (channels)\n",
    "\n",
    "eeg_array = eeg_array.T # 8 rows (channels) x 40672 columns (samples)\n",
    "\n",
    "\n"
   ]
  },
  {
   "cell_type": "code",
   "execution_count": null,
   "metadata": {},
   "outputs": [],
   "source": [
    "\n",
    "def rls_filter(eeg_data, target_freq, lambda_=0.98):\n",
    "    \"\"\"\n",
    "    Implements the RLS (Recursive Least Squares) adaptive filter for SSVEP detection.\n",
    "\n",
    "    Args:\n",
    "        eeg_data (ndarray): Input EEG data of shape (n_channels, n_samples).\n",
    "        target_freq (float): Target frequency of the SSVEP stimulus.\n",
    "        lambda_ (float, optional): Forgetting factor. Default is 0.98.\n",
    "\n",
    "    Returns:\n",
    "        ndarray: Filtered data of shape (n_channels, n_samples).\n",
    "    \"\"\"\n",
    "    n_samples = eeg_data.shape[1]\n",
    "    r1 = sin (2*pi*target_freq/fs)\n",
    "    r1 = r1[0:n_samples]\n",
    "    r2 = cos (2*pi*target_freq/fs)\n",
    "    r2 = r2[0:n_samples]\n",
    "    # Initialize filter coefficients, P matrix, and estimated output\n",
    "    w = np.zeros((2, 1)) # 2 filter coefficients hc and hs \n",
    "    P = np.eye(2) / 0.001 # P matrix is a 2x2 identity matrix\n",
    "    filtered_data = np.zeros_like(eeg_data)\n",
    "\n",
    "    # Apply RLS filter\n",
    "    for t in range(n_samples):\n",
    "        k = np.dot(P, x) / (lambda_ + np.dot(np.dot(x.T, P), x))  # Kalman gain\n",
    "        e = eeg_data[:, t] - y  # error signal\n",
    "        w = w + k * e  # filter coefficients update\n",
    "        P = (1 / lambda_) * (P - np.dot(np.dot(k, x.T), P))  # P matrix update\n",
    "        \n",
    "        x = eeg_data[:, t].reshape(-1, 1)  # current input sample\n",
    "        y = np.dot(w.T, x)  # estimated output\n",
    "        filtered_data[:, t] = y.flatten()  # store filtered output\n",
    "\n",
    "    return filtered_data"
   ]
  },
  {
   "cell_type": "code",
   "execution_count": null,
   "metadata": {},
   "outputs": [],
   "source": [
    "rls_data = rls_filter(eeg_array, 13)\n",
    "\n",
    "print(rls_data.shape)\n",
    "\n",
    "#Plot the data for each channel seperately before and after filtering\n",
    "# for i in range(8):\n",
    "#     plt.figure()\n",
    "#     plt.plot(eeg_array[i,:])\n",
    "#     plt.title(\"Channel \"+str(i+1)+\" before filtering\")\n",
    "#     plt.figure()\n",
    "#     plt.plot(rls_data[i,:])\n",
    "#     plt.title(\"Channel \"+str(i+1)+\" after filtering\")\n",
    "#     plt.show\n",
    "\n",
    "#Plot the power spectrum of the data before and after filtering ranging from 0 to 50 Hz\n",
    "for i in range(8):\n",
    "    plt.figure()\n",
    "    plt.psd(eeg_array[i,:], Fs=250, NFFT=1024)\n",
    "    plt.xlim(6,40)\n",
    "    plt.title(\"Channel \"+str(i+1)+\" before filtering\")    \n",
    "    plt.figure()\n",
    "    plt.psd(rls_data[i,:], Fs=250, NFFT=1024)\n",
    "    plt.xlim(6,40)\n",
    "    plt.title(\"Channel \"+str(i+1)+\" after filtering\")\n",
    "    plt.show\n",
    "\n"
   ]
  }
 ],
 "metadata": {
  "kernelspec": {
   "display_name": "thesis",
   "language": "python",
   "name": "python3"
  },
  "language_info": {
   "codemirror_mode": {
    "name": "ipython",
    "version": 3
   },
   "file_extension": ".py",
   "mimetype": "text/x-python",
   "name": "python",
   "nbconvert_exporter": "python",
   "pygments_lexer": "ipython3",
   "version": "3.8.16"
  },
  "orig_nbformat": 4
 },
 "nbformat": 4,
 "nbformat_minor": 2
}

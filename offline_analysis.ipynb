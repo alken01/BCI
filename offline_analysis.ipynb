{
 "cells": [
  {
   "cell_type": "code",
   "execution_count": 10,
   "metadata": {},
   "outputs": [],
   "source": [
    "import pandas as pd\n",
    "from scipy import signal\n",
    "import numpy as np\n",
    "import mne\n",
    "import matplotlib.pyplot as plt\n",
    "from sklearn.cross_decomposition import CCA"
   ]
  },
  {
   "cell_type": "code",
   "execution_count": 11,
   "metadata": {},
   "outputs": [],
   "source": [
    "# Source https://github.com/Mentalab-hub/explorepy/blob/master/examples/ssvep_demo/analysis.py\n",
    "\n",
    "class CCAAnalysis:\n",
    "    \"\"\"Canonical Correlation Analysis for SSVEP paradigm\"\"\"\n",
    "    def __init__(self, freqs, win_len, s_rate, n_harmonics=1):\n",
    "        \"\"\"\n",
    "        Args:\n",
    "            freqs (list): List of target frequencies\n",
    "            win_len (float): Window length\n",
    "            s_rate (int): Sampling rate of EEG signal\n",
    "            n_harmonics (int): Number of harmonics to be considered\n",
    "        \"\"\"\n",
    "        self.freqs = freqs\n",
    "        self.win_len = win_len\n",
    "        self.s_rate = s_rate\n",
    "        self.n_harmonics = n_harmonics\n",
    "        self.train_data = self._init_train_data()\n",
    "        self.cca = CCA(n_components=1)\n",
    "\n",
    "    def _init_train_data(self):\n",
    "        t_vec = np.linspace(0, self.win_len, int(self.s_rate * self.win_len))\n",
    "        targets = {}\n",
    "        for freq in self.freqs:\n",
    "            sig_sin, sig_cos = [], []\n",
    "            for harmonics in range(self.n_harmonics):\n",
    "                sig_sin.append(np.sin(2 * np.pi * harmonics * freq * t_vec))\n",
    "                sig_cos.append(np.cos(2 * np.pi * harmonics * freq * t_vec))\n",
    "            targets[freq] = np.array(sig_sin + sig_cos).T\n",
    "        return targets\n",
    "\n",
    "    def apply_cca(self, eeg):\n",
    "        \"\"\"Apply CCA analysis to EEG data and return scores for each target frequency\n",
    "\n",
    "        Args:\n",
    "            eeg (np.array): EEG array [n_samples, n_chan]\n",
    "\n",
    "        Returns:\n",
    "            list of scores for target frequencies\n",
    "        \"\"\"\n",
    "        scores = []\n",
    "        for key in self.train_data:\n",
    "            sig_c, t_c = self.cca.fit_transform(eeg, self.train_data[key])\n",
    "            scores.append(np.corrcoef(sig_c.T, t_c.T)[0, 1])\n",
    "        return scores"
   ]
  },
  {
   "cell_type": "code",
   "execution_count": 12,
   "metadata": {},
   "outputs": [],
   "source": [
    "# Source https://github.com/Mentalab-hub/explorepy/blob/master/examples/ssvep_demo/offline_analysis.py\n",
    "\n",
    "def custom_filter(exg, lf, hf, fs, type):\n",
    "    \"\"\"\n",
    "    \n",
    "    Args:\n",
    "        exg: EEG signal with the shape: (N_chan, N_sample)\n",
    "        lf: Low cutoff frequency\n",
    "        hf: High cutoff frequency\n",
    "        fs: Sampling rate\n",
    "        type: Filter type, 'bandstop' or 'bandpass'\n",
    "\n",
    "    Returns:\n",
    "        (numpy ndarray): Filtered signal (N_chan, N_sample)\n",
    "    \"\"\"\n",
    "    N = 4\n",
    "    b, a = signal.butter(N, [lf / (fs/2), hf / (fs/2)], type)\n",
    "    return signal.filtfilt(b, a, exg)\n",
    "\n",
    "\n",
    "def extract_epochs(sig, sig_times, event_times, t_min, t_max, fs):\n",
    "    \"\"\" Extracts epochs from signal\n",
    "\n",
    "    Args:\n",
    "        sig: EEG signal with the shape: (N_chan, N_sample)\n",
    "        sig_times: Timestamp of the EEG samples with the shape (N_sample)\n",
    "        event_times: Event marker times\n",
    "        t_min: Starting time of the epoch relative to the event time\n",
    "        t_max: End time of the epoch relative to the event time\n",
    "        fs: Sampling rate\n",
    "\n",
    "    Returns:\n",
    "\n",
    "    \"\"\"\n",
    "    offset_st = int(t_min * fs)\n",
    "    offset_end = int(t_max * fs)\n",
    "    epoch_list = []\n",
    "    for i, event_t in enumerate(event_times):\n",
    "        idx = np.argmax(sig_times > event_t)\n",
    "        epoch_list.append(sig[:, idx + offset_st:idx + offset_end])\n",
    "    return np.array(epoch_list)\n"
   ]
  },
  {
   "cell_type": "code",
   "execution_count": 13,
   "metadata": {},
   "outputs": [],
   "source": [
    "# Source https://github.com/Mentalab-hub/explorepy/blob/master/examples/ssvep_demo/offline_analysis.py\n",
    "\n",
    "# parser = argparse.ArgumentParser(description=\"SSVEP offline analysis script\")\n",
    "# parser.add_argument(\"-f\", \"--filename\", dest=\"filename\", type=str, help=\"Recorded file name\")\n",
    "# args = parser.parse_args()\n",
    "\n",
    "filename = \"data/28_2_12_alken\"\n",
    "\n",
    "# Initialization\n",
    "fs = 250\n",
    "lf = 1\n",
    "hf = 30\n",
    "\n",
    "event_freq = [10, 7.5]\n",
    "label_nontarget = 'sw_10'\n",
    "label_target = 'sw_11'\n",
    "\n",
    "t_min = -1\n",
    "t_max = 6.\n",
    "\n",
    "n_chan = 8\n",
    "chan_list = ['ch' + str(i) for i in range(1, n_chan + 1)]\n",
    "chan_name = ['POz', 'PO3', 'PO4', 'PO7', 'O2', 'O1', 'Oz', 'PO8']\n",
    "class_names = ['Left', 'Right']\n",
    "\n",
    "exg_filename = filename + '_ExG.csv'\n",
    "marker_filename = filename + '_Marker.csv'"
   ]
  },
  {
   "cell_type": "code",
   "execution_count": 14,
   "metadata": {},
   "outputs": [],
   "source": [
    "# Import data\n",
    "exg = pd.read_csv(exg_filename)\n",
    "markers = pd.read_csv(marker_filename)\n",
    "ts_sig = exg['TimeStamp'].to_numpy()\n",
    "ts_markers = markers[markers.Code.isin([label_nontarget, label_target])]['TimeStamp'].to_numpy()\n",
    "groundtruth = markers[markers.Code.isin([label_nontarget,label_target])]['Code'].to_numpy()\n",
    "for i in range(0,len(groundtruth)):\n",
    "    groundtruth[i] = int(groundtruth[i][-1:])"
   ]
  },
  {
   "cell_type": "code",
   "execution_count": 15,
   "metadata": {},
   "outputs": [],
   "source": [
    "sig = exg[chan_list].to_numpy().T\n",
    "\n",
    "# Signal filtering\n",
    "filt_sig = custom_filter(sig, 45, 55, fs, 'bandstop')\n",
    "filt_sig = custom_filter(filt_sig, lf, hf, fs, 'bandpass')\n",
    "\n",
    "epochs = extract_epochs(filt_sig, ts_sig, ts_markers, t_min, t_max, fs)\n",
    "\n",
    "t_win = [.25, .5, .75, 1, 1.25, 1.5, 2, 2.5, 3, 4, 6]\n",
    "predictions = {str(key): [] for key in t_win}\n",
    "accuracies = []\n",
    "t_offset = np.absolute(t_min)"
   ]
  },
  {
   "cell_type": "code",
   "execution_count": 16,
   "metadata": {},
   "outputs": [],
   "source": [
    "for tmax in t_win:\n",
    "    cca = CCAAnalysis(freqs=event_freq, win_len=tmax, s_rate=250, n_harmonics=2)\n",
    "    for eeg_chunk in epochs:\n",
    "        scores = cca.apply_cca(eeg_chunk[:, int(t_offset*fs):int((tmax + t_offset) * fs)].T)\n",
    "        predictions[str(tmax)].append(np.argmax(scores))\n",
    "    accuracies.append(\n",
    "        np.count_nonzero(np.array(predictions[str(tmax)]) == groundtruth) / len(predictions[str(tmax)]) * 100)"
   ]
  },
  {
   "cell_type": "code",
   "execution_count": 17,
   "metadata": {},
   "outputs": [
    {
     "data": {
      "image/png": "[encoded data removed]",
      "text/plain": [
       "<Figure size 640x480 with 1 Axes>"
      ]
     },
     "metadata": {},
     "output_type": "display_data"
    }
   ],
   "source": [
    "# print(accuracies)\n",
    "fig, ax = plt.subplots()\n",
    "ax.plot(t_win, accuracies, marker='*', markersize=5)\n",
    "ax.set_ylabel('Accuracy (%)')\n",
    "ax.set_xlabel('Time window (s)')\n",
    "ax.set_xlim(0, 6.5)\n",
    "ax.set_ylim(40, 105)\n",
    "ax.grid(True)\n",
    "plt.show()"
   ]
  },
  {
   "attachments": {},
   "cell_type": "markdown",
   "metadata": {},
   "source": [
    "1: Oz\n",
    "2: POz\n",
    "3: PO3\n",
    "4: PO4\n",
    "5: O1\n",
    "6: O2\n",
    "7: PO7\n",
    "8: PO8"
   ]
  },
  {
   "cell_type": "code",
   "execution_count": null,
   "metadata": {},
   "outputs": [],
   "source": [
    "# Time-frequency analysis\n",
    "freqs = np.arange(1., 15., .3)\n",
    "n_cycles = freqs\n",
    "\n",
    "times = np.linspace(t_min, t_max, epochs.shape[2])\n",
    "\n",
    "power_1 = mne.time_frequency.tfr_array_morlet(epochs[groundtruth == 0., :, :], sfreq=fs,\n",
    "                                                freqs=freqs, n_cycles=n_cycles,\n",
    "                                                output='avg_power')\n",
    "power_2 = mne.time_frequency.tfr_array_morlet(epochs[groundtruth == 1., :, :], sfreq=fs,\n",
    "                                                freqs=freqs, n_cycles=n_cycles,\n",
    "                                                output='avg_power')\n",
    "\n",
    "mne.baseline.rescale(power_1, times, (None, 0), mode='mean', copy=False)\n",
    "mne.baseline.rescale(power_2, times, (None, 0), mode='mean', copy=False)\n",
    "power = np.stack([power_1, power_2])\n",
    "x, y = mne.viz.centers_to_edges(times, freqs)\n",
    "\n",
    "fig, ax = plt.subplots(n_chan, 2, figsize=(8, 12))\n",
    "for j in range(2):\n",
    "    for i in range(n_chan):\n",
    "        mesh = ax[i, j].pcolormesh(x, y, power[j, i], cmap='RdBu_r', vmin=-3500, vmax=1500)\n",
    "        ax[i, j].set_title('TFR - ' + chan_name[i] + ' - ' + class_names[j])\n",
    "        ax[i, j].set(ylim=freqs[[0, -1]], xlabel='T(s)', ylabel='F(Hz)')\n",
    "plt.tight_layout()\n",
    "fig.subplots_adjust(right=0.8)\n",
    "cbar_ax = fig.add_axes([0.85, 0.15, 0.05, 0.7])\n",
    "fig.colorbar(mesh, cax=cbar_ax)\n",
    "plt.show()"
   ]
  }
 ],
 "metadata": {
  "kernelspec": {
   "display_name": "thesis",
   "language": "python",
   "name": "python3"
  },
  "language_info": {
   "codemirror_mode": {
    "name": "ipython",
    "version": 3
   },
   "file_extension": ".py",
   "mimetype": "text/x-python",
   "name": "python",
   "nbconvert_exporter": "python",
   "pygments_lexer": "ipython3",
   "version": "3.10.9"
  },
  "orig_nbformat": 4,
  "vscode": {
   "interpreter": {
    "hash": "15d9b486ac39ec6ca226982485cbeefccd467bcf6c20f38ee8e1e514ea3616cf"
   }
  }
 },
 "nbformat": 4,
 "nbformat_minor": 2
}
